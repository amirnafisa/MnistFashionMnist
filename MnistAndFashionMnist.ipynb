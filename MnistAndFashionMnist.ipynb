{
  "nbformat": 4,
  "nbformat_minor": 0,
  "metadata": {
    "colab": {
      "name": "Parallel runs for fashion mnist.ipynb",
      "version": "0.3.2",
      "provenance": [],
      "collapsed_sections": []
    },
    "kernelspec": {
      "name": "python3",
      "display_name": "Python 3"
    },
    "accelerator": "GPU"
  },
  "cells": [
    {
      "metadata": {
        "id": "eNqJmaFsRhlS",
        "colab_type": "code",
        "colab": {
          "base_uri": "https://localhost:8080/",
          "height": 167
        },
        "outputId": "5c99e7e6-cfb1-4b2c-b29d-93e7fd191c16"
      },
      "cell_type": "code",
      "source": [
        "# Install pytorch and tqdm (if necessary)\n",
        "!pip install torch\n",
        "!pip install torchvision\n",
        "!pip install tqdm"
      ],
      "execution_count": 58,
      "outputs": [
        {
          "output_type": "stream",
          "text": [
            "Requirement already satisfied: torch in /usr/local/lib/python3.6/dist-packages (0.4.1)\n",
            "Requirement already satisfied: torchvision in /usr/local/lib/python3.6/dist-packages (0.2.1)\n",
            "Requirement already satisfied: six in /usr/local/lib/python3.6/dist-packages (from torchvision) (1.11.0)\n",
            "Requirement already satisfied: torch in /usr/local/lib/python3.6/dist-packages (from torchvision) (0.4.1)\n",
            "Requirement already satisfied: numpy in /usr/local/lib/python3.6/dist-packages (from torchvision) (1.14.6)\n",
            "Requirement already satisfied: pillow>=4.1.1 in /usr/local/lib/python3.6/dist-packages (from torchvision) (5.2.0)\n",
            "Requirement already satisfied: tqdm in /usr/local/lib/python3.6/dist-packages (4.26.0)\n"
          ],
          "name": "stdout"
        }
      ]
    },
    {
      "metadata": {
        "id": "wA4n2ZsKP-dt",
        "colab_type": "code",
        "colab": {
          "base_uri": "https://localhost:8080/",
          "height": 34
        },
        "outputId": "b07edf40-05eb-4a09-9bbf-881e44419266"
      },
      "cell_type": "code",
      "source": [
        "# Mount your google drive as the data drive\n",
        "# This will require google authorization\n",
        "from google.colab import drive\n",
        "drive.mount('/content/drive')"
      ],
      "execution_count": 59,
      "outputs": [
        {
          "output_type": "stream",
          "text": [
            "Mounted at /content/drive\n"
          ],
          "name": "stdout"
        }
      ]
    },
    {
      "metadata": {
        "id": "V3Hu3-dhIaga",
        "colab_type": "code",
        "colab": {}
      },
      "cell_type": "code",
      "source": [
        "# Handle imports\n",
        "\n",
        "import math\n",
        "import os\n",
        "import datetime\n",
        "import csv\n",
        "%matplotlib inline\n",
        "import matplotlib.pyplot as plt\n",
        "\n",
        "import torch\n",
        "import torch.nn as nn\n",
        "import torch.nn.functional as F\n",
        "import torch.optim as optim\n",
        "import torchvision\n",
        "from torchvision import datasets\n",
        "from torchvision import transforms\n",
        "from torch.autograd import Variable\n",
        "import numpy as np\n",
        "import tqdm\n",
        "\n",
        "from IPython import display"
      ],
      "execution_count": 0,
      "outputs": []
    },
    {
      "metadata": {
        "id": "Z7cF6oVvIesG",
        "colab_type": "code",
        "colab": {}
      },
      "cell_type": "code",
      "source": [
        "# The Args object will contain all of our parameters\n",
        "# If you want to run with different arguments, create another Args object\n",
        "\n",
        "class Args(object):\n",
        "  def __init__(self, name='mnist', batch_size=64, test_batch_size=1000,\n",
        "            epochs=10, lr=0.01, optimizer='sgd', momentum=0.5,\n",
        "            seed=1, log_interval=100, dataset='mnist',\n",
        "            data_dir='/content/drive/My Drive/cs482/data', model='default',\n",
        "            cuda=True):\n",
        "    self.name = name # name for this training run. Don't use spaces.\n",
        "    self.batch_size = batch_size\n",
        "    self.test_batch_size = test_batch_size # Input batch size for testing\n",
        "    self.epochs = epochs # Number of epochs to train\n",
        "    self.lr = lr # Learning rate\n",
        "    self.optimizer = optimizer # sgd/p1sgd/adam/rms_prop\n",
        "    self.momentum = momentum # SGD Momentum\n",
        "    self.seed = seed # Random seed\n",
        "    self.log_interval = log_interval # Batches to wait before logging\n",
        "                                     # detailed status. 0 = never\n",
        "    self.dataset = dataset # mnist/fashion_mnist\n",
        "    self.data_dir = data_dir\n",
        "    self.model = model # default/P2Q7DoubleChannelsNet/P2Q7HalfChannelsNet/\n",
        "                  # P2Q8BatchNormNet/P2Q9DropoutNet/P2Q10DropoutBatchnormNet/\n",
        "                  # P2Q11ExtraConvNet/P2Q12RemoveLayerNet/P2Q13UltimateNet\n",
        "    self.cuda = cuda and torch.cuda.is_available()"
      ],
      "execution_count": 0,
      "outputs": []
    },
    {
      "metadata": {
        "id": "oytp5qRz7Tt2",
        "colab_type": "code",
        "colab": {}
      },
      "cell_type": "code",
      "source": [
        "# The Args object will contain all of our parameters\n",
        "# If you want to run with different arguments, create another Args object\n",
        "P1m = Args(name='mnist', batch_size=64, test_batch_size=1000,\n",
        "            epochs=10, lr=0.01, optimizer='sgd', momentum=0.5,\n",
        "            seed=1, log_interval=100, dataset='mnist',\n",
        "            data_dir='/content/drive/My Drive/cs482/data', model='default',\n",
        "            cuda=True)\n",
        "P1f = Args(name='fashion_mnist_parallel', batch_size=64, test_batch_size=1000,\n",
        "            epochs=10, lr=0.01, optimizer='sgd', momentum=0.5,\n",
        "            seed=1, log_interval=100, dataset='fashion_mnist',\n",
        "            data_dir='/content/drive/My Drive/cs482/data', model='default',\n",
        "            cuda=True)\n",
        "P2m = Args(name='mnist', batch_size=64, test_batch_size=1000,\n",
        "            epochs=20, lr=0.01, optimizer='sgd', momentum=0.5,\n",
        "            seed=1, log_interval=100, dataset='mnist',\n",
        "            data_dir='/content/drive/My Drive/cs482/data', model='default',\n",
        "            cuda=True)\n",
        "P2f = Args(name='fashion_mnist_parallel', batch_size=64, test_batch_size=1000,\n",
        "            epochs=20, lr=0.01, optimizer='sgd', momentum=0.5,\n",
        "            seed=1, log_interval=100, dataset='fashion_mnist',\n",
        "            data_dir='/content/drive/My Drive/cs482/data', model='default',\n",
        "            cuda=True)\n",
        "P3a = Args(name='fashion_mnist_parallel', batch_size=64, test_batch_size=1000,\n",
        "            epochs=10, lr=0.01/10, optimizer='sgd', momentum=0.5,\n",
        "            seed=1, log_interval=100, dataset='fashion_mnist',\n",
        "            data_dir='/content/drive/My Drive/cs482/data', model='default',\n",
        "            cuda=True)\n",
        "P3b = Args(name='fashion_mnist_parallel', batch_size=64, test_batch_size=1000,\n",
        "            epochs=10, lr=0.01*10, optimizer='sgd', momentum=0.5,\n",
        "            seed=1, log_interval=100, dataset='fashion_mnist',\n",
        "            data_dir='/content/drive/My Drive/cs482/data', model='default',\n",
        "            cuda=True)\n",
        "P4a = Args(name='fashion_mnist_parallel', batch_size=64, test_batch_size=1000,\n",
        "            epochs=10, lr=0.01, optimizer='adam', momentum=0.5,\n",
        "            seed=1, log_interval=100, dataset='fashion_mnist',\n",
        "            data_dir='/content/drive/My Drive/cs482/data', model='default',\n",
        "            cuda=True)\n",
        "P4b = Args(name='fashion_mnist_parallel', batch_size=64, test_batch_size=1000,\n",
        "            epochs=10, lr=0.01, optimizer='rms_prop', momentum=0.5,\n",
        "            seed=1, log_interval=100, dataset='fashion_mnist',\n",
        "            data_dir='/content/drive/My Drive/cs482/data', model='default',\n",
        "            cuda=True)\n",
        "P6a = Args(name='fashion_mnist_parallel', batch_size=64/8, test_batch_size=1000,\n",
        "            epochs=10, lr=0.01, optimizer='sgd', momentum=0.5,\n",
        "            seed=1, log_interval=100, dataset='fashion_mnist',\n",
        "            data_dir='/content/drive/My Drive/cs482/data', model='default',\n",
        "            cuda=True)\n",
        "P6b = Args(name='fashion_mnist_parallel', batch_size=64*8, test_batch_size=1000,\n",
        "            epochs=10, lr=0.01, optimizer='sgd', momentum=0.5,\n",
        "            seed=1, log_interval=100, dataset='fashion_mnist',\n",
        "            data_dir='/content/drive/My Drive/cs482/data', model='default',\n",
        "            cuda=True)\n",
        "P7a = Args(name='fashion_mnist_parallel', batch_size=64, test_batch_size=1000,\n",
        "            epochs=10, lr=0.01, optimizer='sgd', momentum=0.5,\n",
        "            seed=1, log_interval=100, dataset='fashion_mnist',\n",
        "            data_dir='/content/drive/My Drive/cs482/data', model='P2Q7HalfChannelsNet',\n",
        "            cuda=True)\n",
        "P7b = Args(name='fashion_mnist_parallel', batch_size=64, test_batch_size=1000,\n",
        "            epochs=10, lr=0.01, optimizer='sgd', momentum=0.5,\n",
        "            seed=1, log_interval=100, dataset='fashion_mnist',\n",
        "            data_dir='/content/drive/My Drive/cs482/data', model='P2Q7DoubleChannelsNet',\n",
        "            cuda=True)\n",
        "P8 = Args(name='fashion_mnist_parallel', batch_size=64, test_batch_size=1000,\n",
        "            epochs=10, lr=0.01, optimizer='sgd', momentum=0.5,\n",
        "            seed=1, log_interval=100, dataset='fashion_mnist',\n",
        "            data_dir='/content/drive/My Drive/cs482/data', model='P2Q8BatchNormNet',\n",
        "            cuda=True)\n",
        "P9 = Args(name='fashion_mnist_parallel', batch_size=64, test_batch_size=1000,\n",
        "            epochs=10, lr=0.01, optimizer='sgd', momentum=0.5,\n",
        "            seed=1, log_interval=100, dataset='fashion_mnist',\n",
        "            data_dir='/content/drive/My Drive/cs482/data', model='P2Q9DropoutNet',\n",
        "            cuda=True)\n",
        "P10 = Args(name='fashion_mnist_parallel', batch_size=64, test_batch_size=1000,\n",
        "            epochs=10, lr=0.01, optimizer='sgd', momentum=0.5,\n",
        "            seed=1, log_interval=100, dataset='fashion_mnist',\n",
        "            data_dir='/content/drive/My Drive/cs482/data', model='P2Q10DropoutBatchnormNet',\n",
        "            cuda=True)\n",
        "P11 = Args(name='fashion_mnist_parallel', batch_size=64, test_batch_size=1000,\n",
        "            epochs=10, lr=0.01, optimizer='sgd', momentum=0.5,\n",
        "            seed=1, log_interval=100, dataset='fashion_mnist',\n",
        "            data_dir='/content/drive/My Drive/cs482/data', model='P2Q11ExtraConvNet',\n",
        "            cuda=True)\n",
        "P12 = Args(name='fashion_mnist_parallel', batch_size=64, test_batch_size=1000,\n",
        "            epochs=10, lr=0.01, optimizer='sgd', momentum=0.5,\n",
        "            seed=1, log_interval=100, dataset='fashion_mnist',\n",
        "            data_dir='/content/drive/My Drive/cs482/data', model='P2Q12RemoveLayerNet',\n",
        "            cuda=True)\n",
        "P13 = Args(name='fashion_mnist_parallel', batch_size=64, test_batch_size=1000,\n",
        "            epochs=30, lr=0.01, optimizer='sgd', momentum=0.5,\n",
        "            seed=1, log_interval=100, dataset='fashion_mnist',\n",
        "            data_dir='/content/drive/My Drive/cs482/data', model='P2Q13UltimateNet',\n",
        "            cuda=True)\n",
        "P14 = Args(name='mnist', batch_size=64, test_batch_size=1000,\n",
        "            epochs=30, lr=0.01, optimizer='sgd', momentum=0.5,\n",
        "            seed=1, log_interval=100, dataset='mnist',\n",
        "            data_dir='/content/drive/My Drive/cs482/data', model='P2Q13UltimateNet',\n",
        "            cuda=True)\n",
        "P15 = Args(name='mnist', batch_size=64, test_batch_size=1000,\n",
        "            epochs=30, lr=0.01/20, optimizer='sgd', momentum=0.5,\n",
        "            seed=1, log_interval=100, dataset='mnist',\n",
        "            data_dir='/content/drive/My Drive/cs482/data', model='P2Q13UltimateNet',\n",
        "            cuda=True)"
      ],
      "execution_count": 0,
      "outputs": []
    },
    {
      "metadata": {
        "id": "ZTdCE87lIjtK",
        "colab_type": "code",
        "colab": {}
      },
      "cell_type": "code",
      "source": [
        "# Define the neural network classes\n",
        "\n",
        "class Net(nn.Module):\n",
        "    def __init__(self):\n",
        "        super(Net, self).__init__()\n",
        "        self.conv1 = nn.Conv2d(1, 10, kernel_size=5)\n",
        "        self.conv2 = nn.Conv2d(10, 20, kernel_size=5)\n",
        "        self.fc1 = nn.Linear(320, 50)\n",
        "        self.fc2 = nn.Linear(50, 10)\n",
        "\n",
        "    def forward(self, x):\n",
        "        # F is just a functional wrapper for modules from the nn package\n",
        "        # see http://pytorch.org/docs/_modules/torch/nn/functional.html\n",
        "        x = F.relu(F.max_pool2d(self.conv1(x), 2))\n",
        "        x = F.relu(F.max_pool2d(self.conv2(x), 2))\n",
        "        x = x.view(-1, 320)\n",
        "        x = F.relu(self.fc1(x))\n",
        "        x = F.dropout(x, training=self.training)\n",
        "        x = self.fc2(x)\n",
        "        return F.log_softmax(x, dim=1)\n",
        "\n",
        "\n",
        "class P2Q7HalfChannelsNet(nn.Module):\n",
        "    def __init__(self):\n",
        "        super(P2Q7HalfChannelsNet, self).__init__()\n",
        "        self.conv1 = nn.Conv2d(1, 5, kernel_size=5)\n",
        "        self.conv2 = nn.Conv2d(5, 10, kernel_size=5)\n",
        "        self.fc1 = nn.Linear(160, 25)\n",
        "        self.fc2 = nn.Linear(25, 10)\n",
        "\n",
        "    def forward(self, x):\n",
        "        x = F.relu(F.max_pool2d(self.conv1(x), 2))\n",
        "        x = F.relu(F.max_pool2d(self.conv2(x), 2))\n",
        "        x = x.view(-1, 160)\n",
        "        x = F.relu(self.fc1(x))\n",
        "        x = F.dropout(x, training=self.training)\n",
        "        x = self.fc2(x)\n",
        "        return F.log_softmax(x, dim=1)\n",
        "\n",
        "\n",
        "class P2Q7DoubleChannelsNet(nn.Module):\n",
        "    def __init__(self):\n",
        "        super(P2Q7DoubleChannelsNet, self).__init__()\n",
        "        self.conv1 = nn.Conv2d(1, 20, kernel_size=5)\n",
        "        self.conv2 = nn.Conv2d(20, 40, kernel_size=5)\n",
        "        self.fc1 = nn.Linear(640, 100)\n",
        "        self.fc2 = nn.Linear(100, 10)\n",
        "\n",
        "    def forward(self, x):\n",
        "        x = F.relu(F.max_pool2d(self.conv1(x), 2))\n",
        "        x = F.relu(F.max_pool2d(self.conv2(x), 2))\n",
        "        x = x.view(-1, 640)\n",
        "        x = F.relu(self.fc1(x))\n",
        "        x = F.dropout(x, training=self.training)\n",
        "        x = self.fc2(x)\n",
        "        return F.log_softmax(x, dim=1)\n",
        "\n",
        "class P2Q8BatchNormNet(nn.Module):\n",
        "    def __init__(self):\n",
        "        super(P2Q8BatchNormNet, self).__init__()\n",
        "        self.conv1 = nn.Conv2d(1, 10, kernel_size=5)\n",
        "        self.conv1_bn = nn.BatchNorm2d(10)\n",
        "        self.conv2 = nn.Conv2d(10, 20, kernel_size=5)\n",
        "        self.fc1 = nn.Linear(320, 50)\n",
        "        self.fc2 = nn.Linear(50, 10)\n",
        "\n",
        "    def forward(self, x):\n",
        "        x = F.relu(F.max_pool2d(self.conv1(x), 2))\n",
        "        x = self.conv1_bn(x)\n",
        "        x = F.relu(F.max_pool2d(self.conv2(x), 2))\n",
        "        x = x.view(-1, 320)\n",
        "        x = F.relu(self.fc1(x))\n",
        "        x = F.dropout(x, training=self.training)\n",
        "        x = self.fc2(x)\n",
        "        return F.log_softmax(x, dim=1)\n",
        "\n",
        "class P2Q9DropoutNet(nn.Module):\n",
        "    def __init__(self):\n",
        "        super(P2Q9DropoutNet, self).__init__()\n",
        "        self.conv1 = nn.Conv2d(1, 10, kernel_size=5)\n",
        "        self.conv1_bn = nn.BatchNorm2d(10)\n",
        "        self.conv2 = nn.Conv2d(10, 20, kernel_size=5)\n",
        "        self.fc1 = nn.Linear(320, 50)\n",
        "        self.fc2 = nn.Linear(50, 10)\n",
        "\n",
        "    def forward(self, x):\n",
        "        x = F.relu(F.max_pool2d(self.conv1(x), 2))\n",
        "        x = self.conv1_bn(x)\n",
        "        x = F.dropout(x, training=self.training)\n",
        "        x = F.relu(F.max_pool2d(self.conv2(x), 2))\n",
        "        x = x.view(-1, 320)\n",
        "        x = F.relu(self.fc1(x))\n",
        "        x = F.dropout(x, training=self.training)\n",
        "        x = self.fc2(x)\n",
        "        return F.log_softmax(x, dim=1)\n",
        "\n",
        "class P2Q10DropoutBatchnormNet(nn.Module):\n",
        "    def __init__(self):\n",
        "        super(P2Q10DropoutBatchnormNet, self).__init__()\n",
        "        self.conv1 = nn.Conv2d(1, 10, kernel_size=5)\n",
        "        self.conv1_bn = nn.BatchNorm2d(10)\n",
        "        self.conv2 = nn.Conv2d(10, 20, kernel_size=5)\n",
        "        self.fc1 = nn.Linear(320, 50)\n",
        "        self.fc2 = nn.Linear(50, 10)\n",
        "\n",
        "    def forward(self, x):\n",
        "        x = F.relu(F.max_pool2d(self.conv1(x), 2))\n",
        "        x = F.dropout(x, training=self.training)\n",
        "        x = self.conv1_bn(x)\n",
        "        x = F.relu(F.max_pool2d(self.conv2(x), 2))\n",
        "        x = x.view(-1, 320)\n",
        "        x = F.relu(self.fc1(x))\n",
        "        x = F.dropout(x, training=self.training)\n",
        "        x = self.fc2(x)\n",
        "        return F.log_softmax(x, dim=1)\n",
        "\n",
        "class P2Q11ExtraConvNet(nn.Module):\n",
        "    def __init__(self):\n",
        "        super(P2Q11ExtraConvNet, self).__init__()\n",
        "        self.conv1 = nn.Conv2d(1, 10, kernel_size=5)\n",
        "        self.conv2 = nn.Conv2d(10, 20, kernel_size=5)\n",
        "        self.conv3 = nn.Conv2d(20, 80, kernel_size=2)\n",
        "        self.fc1 = nn.Linear(80, 50)\n",
        "        self.fc2 = nn.Linear(50, 10)\n",
        "\n",
        "    def forward(self, x):\n",
        "        x = F.relu(F.max_pool2d(self.conv1(x), 2))\n",
        "        x = F.relu(F.max_pool2d(self.conv2(x), 2))\n",
        "        x = F.relu(F.max_pool2d(self.conv3(x), 2))\n",
        "        x = x.view(-1, 80)\n",
        "        x = F.relu(self.fc1(x))\n",
        "        x = F.dropout(x, training=self.training)\n",
        "        x = self.fc2(x)\n",
        "        return F.log_softmax(x, dim=1)\n",
        "\n",
        "class P2Q12RemoveLayerNet(nn.Module):\n",
        "    def __init__(self):\n",
        "        super(P2Q12RemoveLayerNet, self).__init__()\n",
        "        self.conv1 = nn.Conv2d(1, 10, kernel_size=5)\n",
        "        self.fc1 = nn.Linear(1440, 50)\n",
        "        self.fc2 = nn.Linear(50, 10)\n",
        "      \n",
        "    def forward(self, x):\n",
        "        x = F.relu(F.max_pool2d(self.conv1(x), 2))\n",
        "        x = x.view(-1, 1440)\n",
        "        x = F.relu(self.fc1(x))\n",
        "        x = F.dropout(x, training=self.training)\n",
        "        x = self.fc2(x)\n",
        "        return F.log_softmax(x, dim=1)\n",
        "      \n",
        "\n",
        "class P2Q13UltimateNet(nn.Module):\n",
        "    def __init__(self):\n",
        "        super(P2Q13UltimateNet, self).__init__()\n",
        "        self.conv1 = nn.Conv2d(1, 80, kernel_size=5)\n",
        "        self.fc1 = nn.Linear(12*12*80, 12*80)\n",
        "        self.fc2 = nn.Linear(12*80, 10)\n",
        "\n",
        "    def forward(self, x):\n",
        "        x = F.relu(F.max_pool2d(self.conv1(x), 2))\n",
        "        x = F.dropout(x, 0.5, training=self.training)\n",
        "        x = x.view(-1, 12*12*80)\n",
        "        x = F.relu(self.fc1(x))\n",
        "        x = F.dropout(x, training=self.training)\n",
        "        x = self.fc2(x)\n",
        "        return F.log_softmax(x, dim=1)\n"
      ],
      "execution_count": 0,
      "outputs": []
    },
    {
      "metadata": {
        "id": "l2Ejw36nIpRr",
        "colab_type": "code",
        "colab": {}
      },
      "cell_type": "code",
      "source": [
        "def prepare_dataset(args):\n",
        "    # choose the dataset\n",
        "    if args.dataset == 'mnist':\n",
        "        DatasetClass = datasets.MNIST\n",
        "    elif args.dataset == 'fashion_mnist':\n",
        "        DatasetClass = datasets.FashionMNIST\n",
        "    else:\n",
        "        raise ValueError('unknown dataset: ' + args.dataset +\n",
        "                ' try mnist or fashion_mnist')\n",
        "\n",
        "    def time_stamp(fname, fmt='%m-%d-%H-%M_{fname}'):\n",
        "        return datetime.datetime.now().strftime(fmt).format(fname=fname)\n",
        "        \n",
        "    training_run_name = time_stamp(args.dataset + '_' + args.name)\n",
        "\n",
        "    kwargs = {'num_workers': 1, 'pin_memory': True} if args.cuda else {}\n",
        "\n",
        "    # Create the dataset: mnist or fasion_mnist\n",
        "    dataset_dir = os.path.join(args.data_dir, args.dataset)\n",
        "    training_run_dir = os.path.join(args.data_dir, training_run_name)\n",
        "    train_dataset = DatasetClass(\n",
        "        dataset_dir, train=True, download=True,\n",
        "        transform=transforms.Compose([\n",
        "            transforms.ToTensor(),\n",
        "            transforms.Normalize((0.1307,), (0.3081,))\n",
        "        ]))\n",
        "    train_loader = torch.utils.data.DataLoader(\n",
        "        train_dataset, batch_size=args.batch_size, shuffle=True, **kwargs)\n",
        "    test_dataset = DatasetClass(\n",
        "        dataset_dir, train=False, transform=transforms.Compose([\n",
        "            transforms.ToTensor(),\n",
        "            transforms.Normalize((0.1307,), (0.3081,))\n",
        "        ]))\n",
        "    test_loader = torch.utils.data.DataLoader(\n",
        "        test_dataset, batch_size=args.test_batch_size, shuffle=True, **kwargs)\n",
        "    \n",
        "    if not os.path.exists(training_run_dir):\n",
        "        os.makedirs(training_run_dir)\n",
        "\n",
        "    return train_loader, test_loader, train_dataset, test_dataset, training_run_dir"
      ],
      "execution_count": 0,
      "outputs": []
    },
    {
      "metadata": {
        "id": "AVGaeczNItaS",
        "colab_type": "code",
        "colab": {
          "base_uri": "https://localhost:8080/",
          "height": 94
        },
        "outputId": "548c4322-529b-4408-87da-f163c841fabb"
      },
      "cell_type": "code",
      "source": [
        "# visualize some images\n",
        "\n",
        "args = P13\n",
        "_, _, _, test_dataset, _ = prepare_dataset(args)\n",
        "images = test_dataset.test_data[:6]\n",
        "labels = test_dataset.test_labels[:6]\n",
        "fig, axes = plt.subplots(1,6)\n",
        "for axis, img, lbl in zip(axes, images, labels):\n",
        "    axis.imshow(img)\n",
        "    axis.set_title(lbl)\n",
        "    axis.set_yticklabels([])\n",
        "    axis.set_xticklabels([])\n",
        "plt.show()\n"
      ],
      "execution_count": 75,
      "outputs": [
        {
          "output_type": "display_data",
          "data": {
            "image/png": "[encoded data removed]",
            "text/plain": [
              "<matplotlib.figure.Figure at 0x7ff451e757b8>"
            ]
          },
          "metadata": {
            "tags": []
          }
        }
      ]
    },
    {
      "metadata": {
        "id": "tD-StYJ2I6u2",
        "colab_type": "code",
        "colab": {}
      },
      "cell_type": "code",
      "source": [
        "def train(model, optimizer, train_loader, epoch, total_minibatch_count,\n",
        "        train_losses, train_accs):\n",
        "    # Training for a full epoch\n",
        "\n",
        "    model.train()\n",
        "    correct_count, total_loss, total_acc = 0., 0., 0.\n",
        "    progress_bar = tqdm.tqdm(train_loader, desc='Training')\n",
        "    \n",
        "    for batch_idx, (data, target) in enumerate(progress_bar):\n",
        "        if args.cuda:\n",
        "            data, target = data.cuda(), target.cuda()\n",
        "        data, target = Variable(data), Variable(target)\n",
        "\n",
        "        optimizer.zero_grad()\n",
        "\n",
        "        # Forward prediction step\n",
        "        output = model(data)\n",
        "        loss = F.nll_loss(output, target)\n",
        "\n",
        "        # Backpropagation step\n",
        "        loss.backward()\n",
        "        optimizer.step()\n",
        "\n",
        "        # The batch has ended, determine the accuracy of the predicted outputs\n",
        "        pred = output.data.max(1)[1]  \n",
        "\n",
        "        # target labels and predictions are categorical values from 0 to 9.\n",
        "        matches = target == pred\n",
        "        accuracy = matches.float().mean()\n",
        "        correct_count += matches.sum()\n",
        "\n",
        "        if args.log_interval != 0 and \\\n",
        "                total_minibatch_count % args.log_interval == 0:\n",
        "\n",
        "            train_losses.append(loss.data[0])\n",
        "            train_accs.append(accuracy.data[0])\n",
        "            \n",
        "        total_loss += loss.data\n",
        "        total_acc += accuracy.data\n",
        "            \n",
        "        progress_bar.set_description(\n",
        "            'Epoch: {} loss: {:.4f}, acc: {:.2f}'.format(\n",
        "                epoch, total_loss / (batch_idx + 1), total_acc / (batch_idx + 1)))\n",
        "        #progress_bar.refresh()\n",
        "\n",
        "        total_minibatch_count += 1\n",
        "\n",
        "    return total_minibatch_count"
      ],
      "execution_count": 0,
      "outputs": []
    },
    {
      "metadata": {
        "id": "KgCLKEHcI-bg",
        "colab_type": "code",
        "colab": {}
      },
      "cell_type": "code",
      "source": [
        "def test(model, test_loader, epoch, total_minibatch_count,\n",
        "        val_losses, val_accs):\n",
        "    # Validation Testing\n",
        "    model.eval()\n",
        "    test_loss, correct = 0., 0.\n",
        "    progress_bar = tqdm.tqdm(test_loader, desc='Validation')\n",
        "    with torch.no_grad():\n",
        "        for data, target in progress_bar:\n",
        "            if args.cuda:\n",
        "                data, target = data.cuda(), target.cuda()\n",
        "            data, target = Variable(data), Variable(target)\n",
        "            output = model(data)\n",
        "            test_loss += F.nll_loss(output, target, reduction='sum').data  # sum up batch loss\n",
        "            pred = output.data.max(1)[1]  # get the index of the max log-probability\n",
        "            correct += (target == pred).float().sum()\n",
        "\n",
        "    test_loss /= len(test_loader.dataset)\n",
        "    \n",
        "    acc = correct / len(test_loader.dataset)\n",
        "\n",
        "    val_losses.append(test_loss)\n",
        "    val_accs.append(acc)\n",
        "    \n",
        "    progress_bar.clear()\n",
        "    progress_bar.write(\n",
        "        '\\nEpoch: {} validation test results - Average val_loss: {:.4f}, val_acc: {}/{} ({:.2f}%)'.format(\n",
        "            epoch, test_loss, correct, len(test_loader.dataset),\n",
        "            100. * correct / len(test_loader.dataset)))\n",
        "\n",
        "    return acc"
      ],
      "execution_count": 0,
      "outputs": []
    },
    {
      "metadata": {
        "id": "khV-_vFSJGT8",
        "colab_type": "code",
        "colab": {}
      },
      "cell_type": "code",
      "source": [
        "# Run the experiment\n",
        "def run_experiment(args):\n",
        "\n",
        "    total_minibatch_count = 0\n",
        "\n",
        "    torch.manual_seed(args.seed)\n",
        "    if args.cuda:\n",
        "        torch.cuda.manual_seed(args.seed)\n",
        "\n",
        "    train_loader, test_loader, _, _, run_path = prepare_dataset(args)\n",
        "\n",
        "    epochs_to_run = args.epochs\n",
        "\n",
        "    # Choose model\n",
        "    # TODO add all the other models here if their parameter is specified\n",
        "    if args.model == 'default' or args.model == 'P2Q7DefaultChannelsNet':\n",
        "        model = Net()\n",
        "    elif args.model in globals():\n",
        "        model = globals()[args.model]()\n",
        "    else:\n",
        "        raise ValueError('Unknown model type: ' + args.model)\n",
        "\n",
        "    if args.cuda:\n",
        "        model.cuda()\n",
        "\n",
        "    # Choose optimizer\n",
        "    if args.optimizer == 'sgd':\n",
        "        optimizer = optim.SGD(model.parameters(), lr=args.lr, momentum=args.momentum)\n",
        "    elif args.optimizer == 'adam':\n",
        "        optimizer = optim.Adam(model.parameters())\n",
        "    elif args.optimizer == 'rms_prop':\n",
        "        optimizer = optim.RMSprop(model.parameters())\n",
        "    else:\n",
        "        raise ValueError('Unsupported optimizer: ' + args.optimizer)\n",
        "\n",
        "    # Run the primary training loop, starting with validation accuracy of 0\n",
        "    val_acc = 0\n",
        "    train_losses, train_accs = [], []\n",
        "    val_losses, val_accs = [], []\n",
        "\n",
        "    for epoch in range(1, epochs_to_run + 1):\n",
        "        \n",
        "        # train for 1 epoch\n",
        "        total_minibatch_count = train(model, optimizer, train_loader,\n",
        "                                    epoch, total_minibatch_count,\n",
        "                                    train_losses, train_accs)\n",
        "        # validate progress on test dataset\n",
        "        val_acc = test(model, test_loader, epoch, total_minibatch_count,\n",
        "                       val_losses, val_accs)\n",
        "        \n",
        "    fig, axes = plt.subplots(1,4, figsize=(13,4))\n",
        "    # plot the losses and acc\n",
        "    plt.title(args.name)\n",
        "    axes[0].plot(train_losses)\n",
        "    axes[0].set_title(\"Loss\")\n",
        "    axes[1].plot(train_accs)\n",
        "    axes[1].set_title(\"Acc\")\n",
        "    axes[2].plot(val_losses)\n",
        "    axes[2].set_title(\"Val loss\")\n",
        "    axes[3].plot(val_accs)\n",
        "    axes[3].set_title(\"Val Acc\")\n",
        "    \n",
        "    # Write to csv file\n",
        "    with open(os.path.join(run_path + 'train.csv'), 'w') as f:\n",
        "        csvw = csv.writer(f, delimiter=',')\n",
        "        for loss, acc in zip(train_losses, train_accs):\n",
        "            csvw.writerow((loss, acc))\n",
        "\n",
        "    # Predict and Test\n",
        "    images, labels = next(iter(test_loader))\n",
        "    if args.cuda:\n",
        "        images, labels = images.cuda(), labels.cuda()\n",
        "    output = model(images)\n",
        "    predicted = torch.max(output, 1)[1]\n",
        "    fig, axes = plt.subplots(1,6, figsize = (20, 4))\n",
        "    for i, (axis, img, lbl) in enumerate(zip(axes, images, predicted)):\n",
        "        if i > 5:\n",
        "            break\n",
        "        img = img.permute(1,2,0).squeeze()\n",
        "        axis.imshow(img)\n",
        "        axis.set_title(lbl.data)\n",
        "        axis.set_yticklabels([])\n",
        "        axis.set_xticklabels([])\n",
        "          \n",
        "    if args.dataset == 'fashion_mnist' and val_acc > 0.92 and val_acc <= 1.0:\n",
        "        print(\"Congratulations, you beat the Question 13 minimum of 92\"\n",
        "            \"with ({:.2f}%) validation accuracy!\".format(val_acc))\n",
        "        #Save the model weights to be used for P14\n",
        "        ultimate_weights_fashion_mnist = os.path.join(args.data_dir + '/ultimate_weights_fashion_mnist.tar')\n",
        "        torch.save(model.state_dict(), ultimate_weights_fashion_mnist)\n",
        "        "
      ],
      "execution_count": 0,
      "outputs": []
    },
    {
      "metadata": {
        "id": "eizDiB70xs0x",
        "colab_type": "code",
        "colab": {}
      },
      "cell_type": "code",
      "source": [
        "# Run the experiment \n",
        "# Problem 14 to validate on MNIST dataset without changing weights\n",
        "def P14_test_mnist(args):\n",
        "\n",
        "    torch.manual_seed(args.seed)\n",
        "    if args.cuda:\n",
        "        torch.cuda.manual_seed(args.seed)\n",
        "\n",
        "    _, test_loader, _, _, _ = prepare_dataset(args)\n",
        "\n",
        "\n",
        "    # Choose model\n",
        "    # TODO add all the other models here if their parameter is specified\n",
        "    if args.model == 'default' or args.model == 'P2Q7DefaultChannelsNet':\n",
        "        model = Net()\n",
        "    elif args.model in globals():\n",
        "        model = globals()[args.model]()\n",
        "    else:\n",
        "        raise ValueError('Unknown model type: ' + args.model)\n",
        "\n",
        "    if args.cuda:\n",
        "        model.cuda()\n",
        "    \n",
        "    ultimate_weights_fashion_mnist = os.path.join(args.data_dir + '/ultimate_weights_fashion_mnist.tar')      \n",
        "    #model.state_dict = torch.load(ultimate_weights_fashion_mnist)\n",
        "\n",
        "    model.load_state_dict(torch.load(ultimate_weights_fashion_mnist))\n",
        "    # validate progress on test dataset\n",
        "    val_acc = test(model, test_loader, 0, 0,\n",
        "                       [], [])\n",
        "        \n",
        "\n",
        "    # Predict and Test\n",
        "    images, labels = next(iter(test_loader))\n",
        "    if args.cuda:\n",
        "        images, labels = images.cuda(), labels.cuda()\n",
        "    output = model(images)\n",
        "    predicted = torch.max(output, 1)[1]\n",
        "    #fig, axes = plt.subplots(1,6)\n",
        "    fig, axes = plt.subplots(1,6, figsize = (20, 4))\n",
        "    for i, (axis, img, lbl) in enumerate(zip(axes, images, predicted)):\n",
        "        if i > 5:\n",
        "            break\n",
        "        img = img.permute(1,2,0).squeeze()\n",
        "        axis.imshow(img)\n",
        "        axis.set_title(lbl.data)\n",
        "        axis.set_yticklabels([])\n",
        "        axis.set_xticklabels([])\n",
        "            \n"
      ],
      "execution_count": 0,
      "outputs": []
    },
    {
      "metadata": {
        "id": "OQ6ztrNWJKmm",
        "colab_type": "code",
        "colab": {
          "base_uri": "https://localhost:8080/",
          "height": 2579
        },
        "outputId": "ad5c3c55-163f-4284-a92e-039090de86ab"
      },
      "cell_type": "code",
      "source": [
        "#Change Args Object Here\n",
        "#Skip this step for P14 only\n",
        "run_experiment(P13)\n"
      ],
      "execution_count": 80,
      "outputs": [
        {
          "output_type": "stream",
          "text": [
            "\rTraining:   0%|          | 0/938 [00:00<?, ?it/s]/usr/local/lib/python3.6/dist-packages/ipykernel_launcher.py:34: UserWarning: invalid index of a 0-dim tensor. This will be an error in PyTorch 0.5. Use tensor.item() to convert a 0-dim tensor to a Python number\n",
            "/usr/local/lib/python3.6/dist-packages/ipykernel_launcher.py:35: UserWarning: invalid index of a 0-dim tensor. This will be an error in PyTorch 0.5. Use tensor.item() to convert a 0-dim tensor to a Python number\n",
            "Epoch: 1 loss: 0.5837, acc: 0.79: 100%|██████████| 938/938 [00:25<00:00, 36.17it/s]\n",
            "Validation: 100%|██████████| 10/10 [00:02<00:00,  4.55it/s]\n",
            "Training:   0%|          | 0/938 [00:00<?, ?it/s]"
          ],
          "name": "stderr"
        },
        {
          "output_type": "stream",
          "text": [
            "\n",
            "Epoch: 1 validation test results - Average val_loss: 0.4271, val_acc: 8444.0/10000 (84.44%)\n"
          ],
          "name": "stdout"
        },
        {
          "output_type": "stream",
          "text": [
            "Epoch: 2 loss: 0.4022, acc: 0.86: 100%|██████████| 938/938 [00:25<00:00, 37.38it/s]\n",
            "Validation: 100%|██████████| 10/10 [00:02<00:00,  4.75it/s]\n",
            "Training:   0%|          | 0/938 [00:00<?, ?it/s]"
          ],
          "name": "stderr"
        },
        {
          "output_type": "stream",
          "text": [
            "\n",
            "Epoch: 2 validation test results - Average val_loss: 0.3683, val_acc: 8665.0/10000 (86.65%)\n"
          ],
          "name": "stdout"
        },
        {
          "output_type": "stream",
          "text": [
            "Epoch: 3 loss: 0.3570, acc: 0.87: 100%|██████████| 938/938 [00:25<00:00, 36.25it/s]\n",
            "Validation: 100%|██████████| 10/10 [00:02<00:00,  4.75it/s]\n",
            "Training:   0%|          | 0/938 [00:00<?, ?it/s]"
          ],
          "name": "stderr"
        },
        {
          "output_type": "stream",
          "text": [
            "\n",
            "Epoch: 3 validation test results - Average val_loss: 0.3246, val_acc: 8819.0/10000 (88.19%)\n"
          ],
          "name": "stdout"
        },
        {
          "output_type": "stream",
          "text": [
            "Epoch: 4 loss: 0.3290, acc: 0.88: 100%|██████████| 938/938 [00:26<00:00, 35.80it/s]\n",
            "Validation: 100%|██████████| 10/10 [00:02<00:00,  4.79it/s]\n",
            "Training:   0%|          | 0/938 [00:00<?, ?it/s]"
          ],
          "name": "stderr"
        },
        {
          "output_type": "stream",
          "text": [
            "\n",
            "Epoch: 4 validation test results - Average val_loss: 0.3086, val_acc: 8888.0/10000 (88.88%)\n"
          ],
          "name": "stdout"
        },
        {
          "output_type": "stream",
          "text": [
            "Epoch: 5 loss: 0.3096, acc: 0.89: 100%|██████████| 938/938 [00:25<00:00, 36.51it/s]\n",
            "Validation: 100%|██████████| 10/10 [00:02<00:00,  4.69it/s]\n",
            "Training:   0%|          | 0/938 [00:00<?, ?it/s]"
          ],
          "name": "stderr"
        },
        {
          "output_type": "stream",
          "text": [
            "\n",
            "Epoch: 5 validation test results - Average val_loss: 0.2964, val_acc: 8902.0/10000 (89.02%)\n"
          ],
          "name": "stdout"
        },
        {
          "output_type": "stream",
          "text": [
            "Epoch: 6 loss: 0.2935, acc: 0.89: 100%|██████████| 938/938 [00:25<00:00, 39.80it/s]\n",
            "Validation: 100%|██████████| 10/10 [00:02<00:00,  4.75it/s]\n",
            "Training:   0%|          | 0/938 [00:00<?, ?it/s]"
          ],
          "name": "stderr"
        },
        {
          "output_type": "stream",
          "text": [
            "\n",
            "Epoch: 6 validation test results - Average val_loss: 0.2895, val_acc: 8922.0/10000 (89.22%)\n"
          ],
          "name": "stdout"
        },
        {
          "output_type": "stream",
          "text": [
            "Epoch: 7 loss: 0.2806, acc: 0.90: 100%|██████████| 938/938 [00:25<00:00, 37.16it/s]\n",
            "Validation: 100%|██████████| 10/10 [00:02<00:00,  4.74it/s]\n",
            "Training:   0%|          | 0/938 [00:00<?, ?it/s]"
          ],
          "name": "stderr"
        },
        {
          "output_type": "stream",
          "text": [
            "\n",
            "Epoch: 7 validation test results - Average val_loss: 0.2851, val_acc: 8933.0/10000 (89.33%)\n"
          ],
          "name": "stdout"
        },
        {
          "output_type": "stream",
          "text": [
            "Epoch: 8 loss: 0.2697, acc: 0.90: 100%|██████████| 938/938 [00:25<00:00, 36.40it/s]\n",
            "Validation: 100%|██████████| 10/10 [00:02<00:00,  4.51it/s]\n",
            "Training:   0%|          | 0/938 [00:00<?, ?it/s]"
          ],
          "name": "stderr"
        },
        {
          "output_type": "stream",
          "text": [
            "\n",
            "Epoch: 8 validation test results - Average val_loss: 0.2662, val_acc: 9024.0/10000 (90.24%)\n"
          ],
          "name": "stdout"
        },
        {
          "output_type": "stream",
          "text": [
            "Epoch: 9 loss: 0.2572, acc: 0.91: 100%|██████████| 938/938 [00:26<00:00, 35.76it/s]\n",
            "Validation: 100%|██████████| 10/10 [00:02<00:00,  4.57it/s]\n",
            "Training:   0%|          | 0/938 [00:00<?, ?it/s]"
          ],
          "name": "stderr"
        },
        {
          "output_type": "stream",
          "text": [
            "\n",
            "Epoch: 9 validation test results - Average val_loss: 0.2622, val_acc: 9048.0/10000 (90.48%)\n"
          ],
          "name": "stdout"
        },
        {
          "output_type": "stream",
          "text": [
            "Epoch: 10 loss: 0.2506, acc: 0.91: 100%|██████████| 938/938 [00:26<00:00, 35.06it/s]\n",
            "Validation: 100%|██████████| 10/10 [00:02<00:00,  4.54it/s]\n",
            "Training:   0%|          | 0/938 [00:00<?, ?it/s]"
          ],
          "name": "stderr"
        },
        {
          "output_type": "stream",
          "text": [
            "\n",
            "Epoch: 10 validation test results - Average val_loss: 0.2610, val_acc: 9034.0/10000 (90.34%)\n"
          ],
          "name": "stdout"
        },
        {
          "output_type": "stream",
          "text": [
            "Epoch: 11 loss: 0.2420, acc: 0.91: 100%|██████████| 938/938 [00:26<00:00, 34.92it/s]\n",
            "Validation: 100%|██████████| 10/10 [00:02<00:00,  4.41it/s]\n",
            "Training:   0%|          | 0/938 [00:00<?, ?it/s]"
          ],
          "name": "stderr"
        },
        {
          "output_type": "stream",
          "text": [
            "\n",
            "Epoch: 11 validation test results - Average val_loss: 0.2578, val_acc: 9021.0/10000 (90.21%)\n"
          ],
          "name": "stdout"
        },
        {
          "output_type": "stream",
          "text": [
            "Epoch: 12 loss: 0.2382, acc: 0.91: 100%|██████████| 938/938 [00:26<00:00, 39.23it/s]\n",
            "Validation: 100%|██████████| 10/10 [00:02<00:00,  4.78it/s]\n",
            "Training:   0%|          | 0/938 [00:00<?, ?it/s]"
          ],
          "name": "stderr"
        },
        {
          "output_type": "stream",
          "text": [
            "\n",
            "Epoch: 12 validation test results - Average val_loss: 0.2485, val_acc: 9087.0/10000 (90.87%)\n"
          ],
          "name": "stdout"
        },
        {
          "output_type": "stream",
          "text": [
            "Epoch: 13 loss: 0.2294, acc: 0.91: 100%|██████████| 938/938 [00:27<00:00, 34.59it/s]\n",
            "Validation: 100%|██████████| 10/10 [00:02<00:00,  4.80it/s]\n",
            "Training:   0%|          | 0/938 [00:00<?, ?it/s]"
          ],
          "name": "stderr"
        },
        {
          "output_type": "stream",
          "text": [
            "\n",
            "Epoch: 13 validation test results - Average val_loss: 0.2454, val_acc: 9114.0/10000 (91.14%)\n"
          ],
          "name": "stdout"
        },
        {
          "output_type": "stream",
          "text": [
            "Epoch: 14 loss: 0.2228, acc: 0.92: 100%|██████████| 938/938 [00:26<00:00, 35.38it/s]\n",
            "Validation: 100%|██████████| 10/10 [00:02<00:00,  4.59it/s]\n",
            "Training:   0%|          | 0/938 [00:00<?, ?it/s]"
          ],
          "name": "stderr"
        },
        {
          "output_type": "stream",
          "text": [
            "\n",
            "Epoch: 14 validation test results - Average val_loss: 0.2572, val_acc: 9062.0/10000 (90.62%)\n"
          ],
          "name": "stdout"
        },
        {
          "output_type": "stream",
          "text": [
            "Epoch: 15 loss: 0.2163, acc: 0.92: 100%|██████████| 938/938 [00:26<00:00, 33.45it/s]\n",
            "Validation: 100%|██████████| 10/10 [00:02<00:00,  4.61it/s]\n",
            "Training:   0%|          | 0/938 [00:00<?, ?it/s]"
          ],
          "name": "stderr"
        },
        {
          "output_type": "stream",
          "text": [
            "\n",
            "Epoch: 15 validation test results - Average val_loss: 0.2368, val_acc: 9127.0/10000 (91.27%)\n"
          ],
          "name": "stdout"
        },
        {
          "output_type": "stream",
          "text": [
            "Epoch: 16 loss: 0.2112, acc: 0.92: 100%|██████████| 938/938 [00:25<00:00, 36.29it/s]\n",
            "Validation: 100%|██████████| 10/10 [00:02<00:00,  4.64it/s]\n",
            "Training:   0%|          | 0/938 [00:00<?, ?it/s]"
          ],
          "name": "stderr"
        },
        {
          "output_type": "stream",
          "text": [
            "\n",
            "Epoch: 16 validation test results - Average val_loss: 0.2415, val_acc: 9112.0/10000 (91.12%)\n"
          ],
          "name": "stdout"
        },
        {
          "output_type": "stream",
          "text": [
            "Epoch: 17 loss: 0.2081, acc: 0.92: 100%|██████████| 938/938 [00:26<00:00, 39.87it/s]\n",
            "Validation: 100%|██████████| 10/10 [00:02<00:00,  4.84it/s]\n",
            "Training:   0%|          | 0/938 [00:00<?, ?it/s]"
          ],
          "name": "stderr"
        },
        {
          "output_type": "stream",
          "text": [
            "\n",
            "Epoch: 17 validation test results - Average val_loss: 0.2378, val_acc: 9121.0/10000 (91.21%)\n"
          ],
          "name": "stdout"
        },
        {
          "output_type": "stream",
          "text": [
            "Epoch: 18 loss: 0.1982, acc: 0.93: 100%|██████████| 938/938 [00:26<00:00, 35.98it/s]\n",
            "Validation: 100%|██████████| 10/10 [00:02<00:00,  4.71it/s]\n",
            "Training:   0%|          | 0/938 [00:00<?, ?it/s]"
          ],
          "name": "stderr"
        },
        {
          "output_type": "stream",
          "text": [
            "\n",
            "Epoch: 18 validation test results - Average val_loss: 0.2352, val_acc: 9133.0/10000 (91.33%)\n"
          ],
          "name": "stdout"
        },
        {
          "output_type": "stream",
          "text": [
            "Epoch: 19 loss: 0.1953, acc: 0.93: 100%|██████████| 938/938 [00:25<00:00, 35.45it/s]\n",
            "Validation: 100%|██████████| 10/10 [00:02<00:00,  4.59it/s]\n",
            "Training:   0%|          | 0/938 [00:00<?, ?it/s]"
          ],
          "name": "stderr"
        },
        {
          "output_type": "stream",
          "text": [
            "\n",
            "Epoch: 19 validation test results - Average val_loss: 0.2338, val_acc: 9148.0/10000 (91.48%)\n"
          ],
          "name": "stdout"
        },
        {
          "output_type": "stream",
          "text": [
            "Epoch: 20 loss: 0.1921, acc: 0.93: 100%|██████████| 938/938 [00:25<00:00, 37.37it/s]\n",
            "Validation: 100%|██████████| 10/10 [00:02<00:00,  4.59it/s]\n",
            "Training:   0%|          | 0/938 [00:00<?, ?it/s]"
          ],
          "name": "stderr"
        },
        {
          "output_type": "stream",
          "text": [
            "\n",
            "Epoch: 20 validation test results - Average val_loss: 0.2283, val_acc: 9166.0/10000 (91.66%)\n"
          ],
          "name": "stdout"
        },
        {
          "output_type": "stream",
          "text": [
            "Epoch: 21 loss: 0.1861, acc: 0.93: 100%|██████████| 938/938 [00:25<00:00, 36.45it/s]\n",
            "Validation: 100%|██████████| 10/10 [00:02<00:00,  4.89it/s]\n",
            "Training:   0%|          | 0/938 [00:00<?, ?it/s]"
          ],
          "name": "stderr"
        },
        {
          "output_type": "stream",
          "text": [
            "\n",
            "Epoch: 21 validation test results - Average val_loss: 0.2286, val_acc: 9177.0/10000 (91.77%)\n"
          ],
          "name": "stdout"
        },
        {
          "output_type": "stream",
          "text": [
            "Epoch: 22 loss: 0.1821, acc: 0.93: 100%|██████████| 938/938 [00:25<00:00, 36.88it/s]\n",
            "Validation: 100%|██████████| 10/10 [00:02<00:00,  4.53it/s]\n",
            "Training:   0%|          | 0/938 [00:00<?, ?it/s]"
          ],
          "name": "stderr"
        },
        {
          "output_type": "stream",
          "text": [
            "\n",
            "Epoch: 22 validation test results - Average val_loss: 0.2330, val_acc: 9135.0/10000 (91.35%)\n"
          ],
          "name": "stdout"
        },
        {
          "output_type": "stream",
          "text": [
            "Epoch: 23 loss: 0.1796, acc: 0.93: 100%|██████████| 938/938 [00:25<00:00, 37.35it/s]\n",
            "Validation: 100%|██████████| 10/10 [00:02<00:00,  4.70it/s]\n",
            "Training:   0%|          | 0/938 [00:00<?, ?it/s]"
          ],
          "name": "stderr"
        },
        {
          "output_type": "stream",
          "text": [
            "\n",
            "Epoch: 23 validation test results - Average val_loss: 0.2275, val_acc: 9165.0/10000 (91.65%)\n"
          ],
          "name": "stdout"
        },
        {
          "output_type": "stream",
          "text": [
            "Epoch: 24 loss: 0.1735, acc: 0.93: 100%|██████████| 938/938 [00:24<00:00, 37.71it/s]\n",
            "Validation: 100%|██████████| 10/10 [00:02<00:00,  4.67it/s]\n",
            "Training:   0%|          | 0/938 [00:00<?, ?it/s]"
          ],
          "name": "stderr"
        },
        {
          "output_type": "stream",
          "text": [
            "\n",
            "Epoch: 24 validation test results - Average val_loss: 0.2311, val_acc: 9164.0/10000 (91.64%)\n"
          ],
          "name": "stdout"
        },
        {
          "output_type": "stream",
          "text": [
            "Epoch: 25 loss: 0.1704, acc: 0.94: 100%|██████████| 938/938 [00:32<00:00, 28.59it/s]\n",
            "Validation: 100%|██████████| 10/10 [00:02<00:00,  4.74it/s]\n",
            "Training:   0%|          | 0/938 [00:00<?, ?it/s]"
          ],
          "name": "stderr"
        },
        {
          "output_type": "stream",
          "text": [
            "\n",
            "Epoch: 25 validation test results - Average val_loss: 0.2245, val_acc: 9203.0/10000 (92.03%)\n"
          ],
          "name": "stdout"
        },
        {
          "output_type": "stream",
          "text": [
            "Epoch: 26 loss: 0.1648, acc: 0.94: 100%|██████████| 938/938 [00:29<00:00, 31.86it/s]\n",
            "Validation: 100%|██████████| 10/10 [00:02<00:00,  4.80it/s]\n",
            "Training:   0%|          | 0/938 [00:00<?, ?it/s]"
          ],
          "name": "stderr"
        },
        {
          "output_type": "stream",
          "text": [
            "\n",
            "Epoch: 26 validation test results - Average val_loss: 0.2250, val_acc: 9159.0/10000 (91.59%)\n"
          ],
          "name": "stdout"
        },
        {
          "output_type": "stream",
          "text": [
            "Epoch: 27 loss: 0.1637, acc: 0.94: 100%|██████████| 938/938 [00:28<00:00, 32.90it/s]\n",
            "Validation: 100%|██████████| 10/10 [00:02<00:00,  4.72it/s]\n",
            "Training:   0%|          | 0/938 [00:00<?, ?it/s]"
          ],
          "name": "stderr"
        },
        {
          "output_type": "stream",
          "text": [
            "\n",
            "Epoch: 27 validation test results - Average val_loss: 0.2208, val_acc: 9187.0/10000 (91.87%)\n"
          ],
          "name": "stdout"
        },
        {
          "output_type": "stream",
          "text": [
            "Epoch: 28 loss: 0.1600, acc: 0.94: 100%|██████████| 938/938 [00:28<00:00, 34.08it/s]\n",
            "Validation: 100%|██████████| 10/10 [00:02<00:00,  4.58it/s]\n",
            "Training:   0%|          | 0/938 [00:00<?, ?it/s]"
          ],
          "name": "stderr"
        },
        {
          "output_type": "stream",
          "text": [
            "\n",
            "Epoch: 28 validation test results - Average val_loss: 0.2204, val_acc: 9203.0/10000 (92.03%)\n"
          ],
          "name": "stdout"
        },
        {
          "output_type": "stream",
          "text": [
            "Epoch: 29 loss: 0.1563, acc: 0.94: 100%|██████████| 938/938 [00:27<00:00, 33.94it/s]\n",
            "Validation: 100%|██████████| 10/10 [00:02<00:00,  4.73it/s]\n",
            "Training:   0%|          | 0/938 [00:00<?, ?it/s]"
          ],
          "name": "stderr"
        },
        {
          "output_type": "stream",
          "text": [
            "\n",
            "Epoch: 29 validation test results - Average val_loss: 0.2176, val_acc: 9218.0/10000 (92.18%)\n"
          ],
          "name": "stdout"
        },
        {
          "output_type": "stream",
          "text": [
            "Epoch: 30 loss: 0.1544, acc: 0.94: 100%|██████████| 938/938 [00:27<00:00, 34.53it/s]\n",
            "Validation: 100%|██████████| 10/10 [00:02<00:00,  4.61it/s]\n"
          ],
          "name": "stderr"
        },
        {
          "output_type": "stream",
          "text": [
            "\n",
            "Epoch: 30 validation test results - Average val_loss: 0.2165, val_acc: 9212.0/10000 (92.12%)\n",
            "Congratulations, you beat the Question 13 minimum of 92with (0.92%) validation accuracy!\n"
          ],
          "name": "stdout"
        },
        {
          "output_type": "display_data",
          "data": {
            "image/png": "[encoded data removed]",
            "text/plain": [
              "<matplotlib.figure.Figure at 0x7ff451e5b7f0>"
            ]
          },
          "metadata": {
            "tags": []
          }
        },
        {
          "output_type": "display_data",
          "data": {
            "image/png": "[encoded data removed]",
            "text/plain": [
              "<matplotlib.figure.Figure at 0x7ff49a6657b8>"
            ]
          },
          "metadata": {
            "tags": []
          }
        }
      ]
    },
    {
      "metadata": {
        "id": "z0iMyVsWz2js",
        "colab_type": "code",
        "colab": {}
      },
      "cell_type": "code",
      "source": [
        "#Uncomment and run this only after problem 13 run\n",
        "#P14_test_mnist(P14)"
      ],
      "execution_count": 0,
      "outputs": []
    },
    {
      "metadata": {
        "id": "AGDI5gc7ix3R",
        "colab_type": "code",
        "colab": {}
      },
      "cell_type": "code",
      "source": [
        ""
      ],
      "execution_count": 0,
      "outputs": []
    }
  ]
}